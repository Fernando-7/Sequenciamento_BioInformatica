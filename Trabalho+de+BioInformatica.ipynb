{
 "cells": [
  {
   "cell_type": "code",
   "execution_count": 55,
   "metadata": {},
   "outputs": [],
   "source": [
    "def findSequences(caminhoArquivo): # Passa o caminho do arquivo \n",
    "    \n",
    "  #  r = open(caminhoArquivo,\"r\") # pega o conteúdo em forma de string\n",
    "    Sequencia = caminhoArquivo\n",
    "    \n",
    "    lista = [] # Armazena todas as sequencias válidas\n",
    "    flag = 0 # Auxilia para sabermos onde ocmeça um aminácido\n",
    "    newcont = 0 # itera sobre a String para sabermos o início e o fim de uma sequencia válida\n",
    "    \n",
    "    for cont in range(0,3): #loop visando os 3 caracteres do primeiro codon\n",
    "        \n",
    "        while(newcont < len(Sequencia)): # loop completo sobre a string\n",
    "            \n",
    "            #Inicio de uma sequência por um stop codon válido\n",
    "            if(flag == 0 and (Sequencia[newcont-3:newcont] == \"ATG\" or Sequencia[newcont-3:newcont] == \"CUG\" or Sequencia[newcont-3:newcont] == \"AUU\" or Sequencia[newcont-3:newcont] == \"AUA\" or Sequencia[newcont-3:newcont] == \"GUG\" or Sequencia[newcont-3:newcont] == \"UUG\")):\n",
    "                flag = newcont - 3\n",
    "                \n",
    "            #termina e armazena uma sequncia por um stop codon válido    \n",
    "            if(Sequencia[newcont:newcont+3] == \"UAA\" or Sequencia[newcont:newcont+3] == \"UAG\" or Sequencia[newcont:newcont+3] == \"UGA\"):\n",
    "                lista.append(Sequencia[flag:newcont+3]+\"\\n\") #Adiciona sequência válida na lista\n",
    "                newcont = newcont + 3\n",
    "                flag = 0\n",
    "            newcont = newcont + 1\n",
    "            \n",
    "        Sequencia = Sequencia[cont+1:len(Sequencia)] # Após cada loop o começo de uma nova iteração é sempre na próxima letra do primeiro codon \n",
    "        arq = open('SequenciasValidas.txt', 'w') # cria um arquivo e adiciona as sequencias válidas no mesmo diretório desse arquivo\n",
    "        arq.writelines(lista)\n",
    "        arq.close()\n",
    "        \n",
    "findSequences(\"Coloque aqui o caminho do arquivo da sequencia\")\n"
   ]
  },
  {
   "cell_type": "code",
   "execution_count": null,
   "metadata": {
    "collapsed": true
   },
   "outputs": [],
   "source": []
  }
 ],
 "metadata": {
  "kernelspec": {
   "display_name": "Python 3",
   "language": "python",
   "name": "python3"
  },
  "language_info": {
   "codemirror_mode": {
    "name": "ipython",
    "version": 3
   },
   "file_extension": ".py",
   "mimetype": "text/x-python",
   "name": "python",
   "nbconvert_exporter": "python",
   "pygments_lexer": "ipython3",
   "version": "3.6.3"
  }
 },
 "nbformat": 4,
 "nbformat_minor": 2
}
