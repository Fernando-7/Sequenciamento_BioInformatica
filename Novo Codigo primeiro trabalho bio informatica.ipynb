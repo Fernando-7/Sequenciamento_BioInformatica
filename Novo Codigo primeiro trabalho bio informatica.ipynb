{
 "cells": [
  {
   "cell_type": "code",
   "execution_count": 73,
   "metadata": {},
   "outputs": [],
   "source": [
    "import math\n",
    "\n",
    "def Promotor(sequencia):\n",
    "    cont_promotor = 0\n",
    "      \n",
    "    lista = []\n",
    "    \n",
    "    \n",
    "    for cont in range(4..len(sequencia)):\n",
    "        lista.append(sequencia[1:cont])\n",
    "        \n",
    "    for cont in range(1..len(lista)):\n",
    "        if(cont_promotor < lista[cont].count('TA')):\n",
    "            cont_promotor = lista[cont].count('TA')\n",
    "            promotor = lista[cont]\n",
    "            \n",
    "    print(promotor)       \n",
    "\n",
    "\n",
    "def trab_bio(sequencia,position,flag): #Passa a sua string\n",
    "    cont = 3\n",
    "    auxcont = 0\n",
    "    lista = []\n",
    "    peso = 0\n",
    "    \n",
    "    dict = {\"TTT\":\"Fenilalanina\",\"TTC\":\"Fenilalanina\",\"TTA\":\"Leucina\",\"TTG\":\"Leucina\",\"CTT\":\"Leucina\",\n",
    "            \"CTC\":\"Leucina\",\"CTA\":\"Leucina\",\"CTG\":\"Leucina\",\"ATT\":\"Isoleucina\",\"ATC\":\"Isoleucina\",\"ATA\":\"Isoleucina\",\n",
    "            \"ATG\":\"Metionina\",\"GTT\":\"Valina\",\"GTC\":\"Valina\",\"GTA\":\"Valina\",\"GTG\":\"Valina\",\"TCT\":\"Serina\",\"TCC\":\"Serina\",\n",
    "            \"TCA\":\"Serina\",\"TCG\":\"Serina\",\"CCT\":\"Prolina\",\"CCC\":\"Prolina\",\"CCA\":\"Prolina\",\"CCG\":\"Prolina\",\"ACT\":\"Treonina\",\n",
    "            \"ACC\":\"Treonina\",\"ACA\":\"Treonina\",\"ACG\":\"Treonina\",\"GCT\":\"Alanina\",\"GCC\":\"Alanina\",\"GCA\":\"Alanina\",\"GCG\":\"Alanina\",\n",
    "            \"TAT\":\"Tirosina\",\"TAC\":\"Tirosina\", \"CAT\":\"Histidina\", \"CAC\":\"Histidina\",\"CAG\":\"Glutamina\",\"AAT\":\"Asparagina\",\n",
    "            \"ACC\":\"Asparagina\",\"AAA\":\"Lisina\", \"AAG\":\"Lisina\",\"GAT\":\"Acido Aspartico\",\"GAC\":\"Acido Aspartico\",\n",
    "            \"TGT\":\"Cisteina\",\"TGC\":\"Cisteina\",\"TGG\":\"Triptofano\",\"CGT\":\"Arginina\",\"CGC\":\"Arginina\",\"CGA\":\"Arginina\",\n",
    "            \"CGG\":\"Arginina\",\"AGA\":\"Arginina\",\"AGG\":\"Arginina\",\"GGT\":\"Glicina\",\"GGC\":\"Glicina\",\"GGA\":\"Glicina\",\n",
    "            \"GAG\":\"Acido Glutamico\",\"GGG\":\"Glicina\",\"AGT\":\"Serina\",\"AGC\":\"Serina\",\"GAA\":\"Acido Glutaminico\",\n",
    "            \"TAA\":\"Stop Codon\",\"TGA\":\"Stop Codon\",\"TAG\":\"Stop Codon\",\"AAC\":\"Asparagina\",\"CAA\":\"Glutamina\"} # dicionario para saber se\n",
    "\n",
    "    dict_peso = {\"TTT\":165.19,\"TTC\":165.19,\"TTA\":131.1736,\"TTG\":131.1736,\"CTT\":131.1736,\n",
    "            \"CTC\":131.1736,\"CTA\":131.1736,\"CTG\":131.1736,\"ATT\":131.1736,\"ATC\":131.1736,\"ATA\":131.1736,\n",
    "            \"ATG\":149.2124,\"GTT\":117.1469,\"GTC\":117.1469,\"GTA\":117.1469,\"GTG\":117.1469,\"TCT\":105.093,\"TCC\":105.093,\n",
    "            \"TCA\":105.093,\"TCG\":105.093,\"CCT\":115.131,\"CCC\":115.131,\"CCA\":115.131,\"CCG\":115.131,\"ACT\":119.1197,\n",
    "            \"ACC\":119.1197,\"ACA\":119.1197,\"ACG\":119.1197,\"GCT\":89.0935,\"GCC\":89.0935,\"GCA\":89.0935,\"GCG\":89.0935,\n",
    "            \"TAT\":181.1894,\"TAC\":181.1894, \"CAT\":155.1502, \"CAC\":155.1502,\"CAG\":146.1451,\"AAT\":132.1184,\n",
    "            \"ACC\":132.1184,\"AAA\":146.1882, \"AAG\":146.1882,\"GAT\":133.1032,\"GAC\":133.1032,\n",
    "            \"TGT\":121.159,\"TGC\":121.159,\"TGG\":204.2262,\"CGT\":174.2017,\"CGC\":174.2017,\"CGA\":174.2017,\n",
    "            \"CGG\":174.2017,\"AGA\":174.2017,\"AGG\":174.2017,\"GGT\":75.0669,\"GGC\":75.0669,\"GGA\":75.0669,\n",
    "            \"GAG\":174.1299,\"GGG\":75.0669,\"AGT\":105.093,\"AGC\":105.093,\"GAA\":174.1299,\n",
    "            \"AAC\":132.1184,\"CAA\":146.1451} # dicionario para saber se\n",
    "    \n",
    "    \n",
    "    \n",
    "    while(sequencia[auxcont:cont] != \"TAA\" and sequencia[auxcont:cont] != \"TAG\" and sequencia[auxcont:cont] != \"TGA\"):\n",
    "        lista.append(sequencia[auxcont:cont])\n",
    "        auxcont = cont\n",
    "        cont = cont + 3\n",
    "    #print(\"frame:\",position - (3*math.ceil((position-1)/3)),\"\\n\")  \n",
    "    if(flag == 1):\n",
    "        print(\"frame:\",-1*(position - (3*(math.floor((position-1)/3)))),\"\\n\")\n",
    "    else:\n",
    "        print(\"frame:\",position - (3*(math.floor((position-1)/3))),\"\\n\")\n",
    "    lista.append(sequencia[auxcont:cont])\n",
    "   \n",
    "    #print(\"Start Codon comeca em:\",sequencia.find(\"AUG\"),\"\\n\")\n",
    "    for contador in range(len(lista)):\n",
    "        if lista[contador] in dict:\n",
    "            print(lista[contador]+\" = \"+dict[lista[contador]]+\"\\n\")\n",
    "        if lista[contador] in dict_peso:\n",
    "            peso = peso + dict_peso[lista[contador]]\n",
    "        \n",
    "    print(\"Peso: \",round(peso,2))\n",
    "\n",
    "\n"
   ]
  },
  {
   "cell_type": "code",
   "execution_count": 74,
   "metadata": {
    "collapsed": true
   },
   "outputs": [],
   "source": [
    "def negativar(value_string):\n",
    "    \n",
    "        value_string = value_string[::-1]\n",
    "        value_string = value_string.replace('A','1')\n",
    "        value_string = value_string.replace('G','2')\n",
    "        value_string = value_string.replace('C','3')\n",
    "        value_string = value_string.replace('T','4')\n",
    "\n",
    "        value_string = value_string.replace('1','T')\n",
    "        value_string = value_string.replace('2','C')\n",
    "        value_string = value_string.replace('3','G')\n",
    "        value_string = value_string.replace('4','A')\n",
    "        \n",
    "        return value_string\n",
    "\n",
    "    \n",
    "def funcao(arquivo,flag,inicio,fim):\n",
    "\n",
    "    valor = open(arquivo, 'r')\n",
    "    value_string = str(valor.read())\n",
    "    value_string = value_string.replace('\\n','')  \n",
    "    \n",
    "    if(flag == 1):\n",
    "        sequencia = value_string[fim:fim+30]\n",
    "        \n",
    "        \n",
    "    else:\n",
    "        sequencia = value_string[inicio-31:inicio-1]\n",
    "    \n",
    "    value_string = value_string[inicio-1:fim]\n",
    "    \n",
    "    if(flag == 1):\n",
    "        value_string = negativar(value_string)\n",
    "        sequencia = negativar(sequencia)\n",
    "        \n",
    "    Promotor(sequencia)\n",
    "    trab_bio(value_string,inicio,flag)\n",
    "\n"
   ]
  },
  {
   "cell_type": "code",
   "execution_count": 75,
   "metadata": {
    "scrolled": false
   },
   "outputs": [
    {
     "ename": "AttributeError",
     "evalue": "'float' object has no attribute 'len'",
     "output_type": "error",
     "traceback": [
      "\u001b[1;31m---------------------------------------------------------------------------\u001b[0m",
      "\u001b[1;31mAttributeError\u001b[0m                            Traceback (most recent call last)",
      "\u001b[1;32m<ipython-input-75-cf5900760bd3>\u001b[0m in \u001b[0;36m<module>\u001b[1;34m()\u001b[0m\n\u001b[1;32m----> 1\u001b[1;33m \u001b[0mfuncao\u001b[0m\u001b[1;33m(\u001b[0m\u001b[1;34m\"bio.txt\"\u001b[0m\u001b[1;33m,\u001b[0m\u001b[1;36m1\u001b[0m\u001b[1;33m,\u001b[0m\u001b[1;36m19223\u001b[0m\u001b[1;33m,\u001b[0m\u001b[1;36m19753\u001b[0m\u001b[1;33m)\u001b[0m\u001b[1;33m\u001b[0m\u001b[0m\n\u001b[0m",
      "\u001b[1;32m<ipython-input-74-79522b444049>\u001b[0m in \u001b[0;36mfuncao\u001b[1;34m(arquivo, flag, inicio, fim)\u001b[0m\n\u001b[0;32m     34\u001b[0m         \u001b[0msequencia\u001b[0m \u001b[1;33m=\u001b[0m \u001b[0mnegativar\u001b[0m\u001b[1;33m(\u001b[0m\u001b[0msequencia\u001b[0m\u001b[1;33m)\u001b[0m\u001b[1;33m\u001b[0m\u001b[0m\n\u001b[0;32m     35\u001b[0m \u001b[1;33m\u001b[0m\u001b[0m\n\u001b[1;32m---> 36\u001b[1;33m     \u001b[0mPromotor\u001b[0m\u001b[1;33m(\u001b[0m\u001b[0msequencia\u001b[0m\u001b[1;33m)\u001b[0m\u001b[1;33m\u001b[0m\u001b[0m\n\u001b[0m\u001b[0;32m     37\u001b[0m     \u001b[0mtrab_bio\u001b[0m\u001b[1;33m(\u001b[0m\u001b[0mvalue_string\u001b[0m\u001b[1;33m,\u001b[0m\u001b[0minicio\u001b[0m\u001b[1;33m,\u001b[0m\u001b[0mflag\u001b[0m\u001b[1;33m)\u001b[0m\u001b[1;33m\u001b[0m\u001b[0m\n\u001b[0;32m     38\u001b[0m \u001b[1;33m\u001b[0m\u001b[0m\n",
      "\u001b[1;32m<ipython-input-73-d7d498e9579e>\u001b[0m in \u001b[0;36mPromotor\u001b[1;34m(sequencia)\u001b[0m\n\u001b[0;32m      7\u001b[0m \u001b[1;33m\u001b[0m\u001b[0m\n\u001b[0;32m      8\u001b[0m \u001b[1;33m\u001b[0m\u001b[0m\n\u001b[1;32m----> 9\u001b[1;33m     \u001b[1;32mfor\u001b[0m \u001b[0mcont\u001b[0m \u001b[1;32min\u001b[0m \u001b[0mrange\u001b[0m\u001b[1;33m(\u001b[0m\u001b[1;36m4.\u001b[0m\u001b[1;33m.\u001b[0m\u001b[0mlen\u001b[0m\u001b[1;33m(\u001b[0m\u001b[0msequencia\u001b[0m\u001b[1;33m)\u001b[0m\u001b[1;33m)\u001b[0m\u001b[1;33m:\u001b[0m\u001b[1;33m\u001b[0m\u001b[0m\n\u001b[0m\u001b[0;32m     10\u001b[0m         \u001b[0mlista\u001b[0m\u001b[1;33m.\u001b[0m\u001b[0mappend\u001b[0m\u001b[1;33m(\u001b[0m\u001b[0msequencia\u001b[0m\u001b[1;33m[\u001b[0m\u001b[1;36m1\u001b[0m\u001b[1;33m:\u001b[0m\u001b[0mcont\u001b[0m\u001b[1;33m]\u001b[0m\u001b[1;33m)\u001b[0m\u001b[1;33m\u001b[0m\u001b[0m\n\u001b[0;32m     11\u001b[0m \u001b[1;33m\u001b[0m\u001b[0m\n",
      "\u001b[1;31mAttributeError\u001b[0m: 'float' object has no attribute 'len'"
     ]
    }
   ],
   "source": [
    "funcao(\"bio.txt\",1,19223,19753)"
   ]
  },
  {
   "cell_type": "code",
   "execution_count": null,
   "metadata": {
    "collapsed": true
   },
   "outputs": [],
   "source": []
  },
  {
   "cell_type": "code",
   "execution_count": null,
   "metadata": {
    "collapsed": true
   },
   "outputs": [],
   "source": []
  }
 ],
 "metadata": {
  "kernelspec": {
   "display_name": "Python 3",
   "language": "python",
   "name": "python3"
  },
  "language_info": {
   "codemirror_mode": {
    "name": "ipython",
    "version": 3
   },
   "file_extension": ".py",
   "mimetype": "text/x-python",
   "name": "python",
   "nbconvert_exporter": "python",
   "pygments_lexer": "ipython3",
   "version": "3.6.3"
  }
 },
 "nbformat": 4,
 "nbformat_minor": 2
}
