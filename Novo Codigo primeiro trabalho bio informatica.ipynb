{
 "cells": [
  {
   "cell_type": "code",
   "execution_count": 44,
   "metadata": {},
   "outputs": [
    {
     "name": "stdout",
     "output_type": "stream",
     "text": [
      "UUU = Fenilalanina\n",
      "\n",
      "AUG = Metionina\n",
      "\n",
      "AUG = Metionina\n",
      "\n",
      "UUU = Fenilalanina\n",
      "\n",
      "AUG = Metionina\n",
      "\n",
      "UUU = Fenilalanina\n",
      "\n",
      "AUG = Metionina\n",
      "\n"
     ]
    }
   ],
   "source": [
    "def trab_bio(sequencia): #Passa a sua string\n",
    "    cont = 3\n",
    "    auxcont = 0\n",
    "    lista = []\n",
    "    dict = {\"UUU\":\"Fenilalanina\",\"UUC\":\"Fenilalanina\",\"UUA\":\"Leucina\",\"UUG\":\"Leucina\",\"CUU\":\"Leucina\",\n",
    "            \"CUC\":\"Leucina\",\"CUA\":\"Leucina\",\"CUG\":\"Leucina\",\"AUU\":\"Isoleucina\",\"AUC\":\"Isoleucina\",\"AUA\":\"Isoleucina\",\n",
    "            \"AUG\":\"Metionina\",\"GUU\":\"Valina\",\"GUC\":\"Valina\",\"GUA\":\"Valina\",\"GUG\":\"Valina\",\"UCU\":\"Serina\",\"UCC\":\"Serina\",\n",
    "            \"UCA\":\"Serina\",\"UCG\":\"Serina\",\"CCU\":\"Prolina\",\"CCC\":\"Prolina\",\"CCA\":\"Prolina\",\"CCG\":\"Prolina\",\"ACU\":\"Treonina\",\n",
    "            \"ACC\":\"Treonina\",\"ACA\":\"Treonina\",\"ACG\":\"Treonina\",\"GCU\":\"Alanina\",\"GCC\":\"Alanina\",\"GCA\":\"Alanina\",\"GCG\":\"Alanina\",\n",
    "            \"UAU\":\"Tirosina\",\"UAC\":\"Tirosina\",\"UAC\":\"Tirosina\",\"UGU\":\"Cisteina\",\"UGC\":\"Cisteina\",\"UGG\":\"Triptofano\",\"CGU\":\"Arginina\",\n",
    "            \"CGC\":\"Arginina\",\"CGA\":\"Arginina\",\"CGG\":\"Arginina\",\"AGA\":\"Arginina\",\"AGG\":\"Arginina\",\"GGU\":\"Glicina\",\"GGC\":\"Glicina\",\n",
    "            \"GGA\":\"Glicina\",\"GGG\":\"Glicina\",\"AGU\":\"Serina\",\"AGC\":\"Serina\"} # dicionario para saber se\n",
    "   \n",
    "    \n",
    "    while(sequencia[auxcont:cont] != \"UAA\" and sequencia[auxcont:cont] != \"UGA\" and sequencia[auxcont:cont] != \"UGA\"):\n",
    "        lista.append(sequencia[auxcont:cont])\n",
    "        auxcont = cont\n",
    "        cont = cont + 3\n",
    "    \n",
    "   # print(\"Start Codon comeca em:\",sequencia.find(\"AUG\"),\"\\n\")\n",
    "    for contador in range(len(lista)):\n",
    "        if lista[contador] in dict:\n",
    "            print(lista[contador]+\" = \"+dict[lista[contador]]+\"\\n\")\n",
    "        \n",
    "\n",
    "trab_bio(\"UUUAUGAUGUUUAUGUUUAUGUAA\")      "
   ]
  },
  {
   "cell_type": "code",
   "execution_count": null,
   "metadata": {
    "collapsed": true
   },
   "outputs": [],
   "source": []
  }
 ],
 "metadata": {
  "kernelspec": {
   "display_name": "Python 3",
   "language": "python",
   "name": "python3"
  },
  "language_info": {
   "codemirror_mode": {
    "name": "ipython",
    "version": 3
   },
   "file_extension": ".py",
   "mimetype": "text/x-python",
   "name": "python",
   "nbconvert_exporter": "python",
   "pygments_lexer": "ipython3",
   "version": "3.6.3"
  }
 },
 "nbformat": 4,
 "nbformat_minor": 2
}
