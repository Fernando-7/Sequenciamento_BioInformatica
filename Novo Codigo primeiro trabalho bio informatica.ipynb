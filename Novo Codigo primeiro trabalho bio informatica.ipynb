{
 "cells": [
  {
   "cell_type": "code",
   "execution_count": 21,
   "metadata": {},
   "outputs": [
    {
     "name": "stdout",
     "output_type": "stream",
     "text": [
      "AUG = Metionina\n",
      "\n",
      "AGC = Serina\n",
      "\n",
      "UCA = Serina\n",
      "\n",
      "AUA = Isoleucina\n",
      "\n",
      "UUG = Leucina\n",
      "\n",
      "UCU = Serina\n",
      "\n",
      "AUA = Isoleucina\n",
      "\n",
      "CCA = Prolina\n",
      "\n",
      "UCG = Serina\n",
      "\n",
      "GUA = Valina\n",
      "\n",
      "CUU = Leucina\n",
      "\n",
      "UCU = Serina\n",
      "\n",
      "CUG = Leucina\n",
      "\n",
      "GUU = Valina\n",
      "\n"
     ]
    }
   ],
   "source": [
    "def trab_bio(sequencia): #Passa a sua string\n",
    "    cont = 3\n",
    "    auxcont = 0\n",
    "    lista = []\n",
    "    dict = {\"UUU\":\"Fenilalanina\",\"UUC\":\"Fenilalanina\",\"UUA\":\"Leucina\",\"UUG\":\"Leucina\",\"CUU\":\"Leucina\",\n",
    "            \"CUC\":\"Leucina\",\"CUA\":\"Leucina\",\"CUG\":\"Leucina\",\"AUU\":\"Isoleucina\",\"AUC\":\"Isoleucina\",\"AUA\":\"Isoleucina\",\n",
    "            \"AUG\":\"Metionina\",\"GUU\":\"Valina\",\"GUC\":\"Valina\",\"GUA\":\"Valina\",\"GUG\":\"Valina\",\"UCU\":\"Serina\",\"UCC\":\"Serina\",\n",
    "            \"UCA\":\"Serina\",\"UCG\":\"Serina\",\"CCU\":\"Prolina\",\"CCC\":\"Prolina\",\"CCA\":\"Prolina\",\"CCG\":\"Prolina\",\"ACU\":\"Treonina\",\n",
    "            \"ACC\":\"Treonina\",\"ACA\":\"Treonina\",\"ACG\":\"Treonina\",\"GCU\":\"Alanina\",\"GCC\":\"Alanina\",\"GCA\":\"Alanina\",\"GCG\":\"Alanina\",\n",
    "            \"UAU\":\"Tirosina\",\"UAC\":\"Tirosina\",\"UAC\":\"Tirosina\",\"UGU\":\"Cisteina\",\"UGC\":\"Cisteina\",\"UGG\":\"Triptofano\",\"CGU\":\"Arginina\",\n",
    "            \"CGC\":\"Arginina\",\"CGA\":\"Arginina\",\"CGG\":\"Arginina\",\"AGA\":\"Arginina\",\"AGG\":\"Arginina\",\"GGU\":\"Glicina\",\"GGC\":\"Glicina\",\n",
    "            \"GGA\":\"Glicina\",\"GGG\":\"Glicina\",\"AGU\":\"Serina\",\"AGC\":\"Serina\"} # dicionario para saber se\n",
    "   \n",
    "    \n",
    "    while(sequencia[auxcont:cont] != \"UAA\" and sequencia[auxcont:cont] != \"UGA\" and sequencia[auxcont:cont] != \"UGA\"):\n",
    "        lista.append(sequencia[auxcont:cont])\n",
    "        auxcont = cont\n",
    "        cont = cont + 3\n",
    "    \n",
    "   # print(\"Start Codon comeca em:\",sequencia.find(\"AUG\"),\"\\n\")\n",
    "    for contador in range(len(lista)):\n",
    "        if lista[contador] in dict:\n",
    "            print(lista[contador]+\" = \"+dict[lista[contador]]+\"\\n\")\n",
    "        \n",
    "\n",
    "\n",
    "\n"
   ]
  },
  {
   "cell_type": "code",
   "execution_count": 19,
   "metadata": {},
   "outputs": [
    {
     "name": "stdout",
     "output_type": "stream",
     "text": [
      "AATACATTCTTCGGCTATCCGCCCGATATCCGCAAGGCTATCTACACCACGAATGCCATCG\n",
      "AATCGGTGAACAGCGTGATCCGTGCAGCCATTAAAAAGCGCAAAGTGTTCCCGACAGACGACTCAGTGCG\n",
      "GAAGGTTGTTTATTTGGCGATCAAGGATGCATCAAAAAAAATGGAGTATGCCGATCCAGAACTGGCGGTT\n",
      "AGCGATGAGCCGTTTTATTATCGAGTTCGGTGACCGCCTGAGCGATCACCTTTAATACGGTGGCAGTTAC\n",
      "ACAGAATTATGGACAGGCTCATTTTGTATGACTACCCCCGCATTACCTTACTTCAAAACTAATATTTTCT\n",
      "AACCAGGTGCAGATAAACTCCGTAATCTGTTCGGGCTGATTAATATCCAATTGTTTTACCGTCGTCTCTA\n",
      "TTGGCTTATCACTTGCCAGAGCAATAACGTGTTTATCGATCAAACCAGAGAAAGGTTTACCGATGGATTC\n",
      "TCTATAGAGTGCAATTTTATTGATTGGCTCATGCTTAAAGCCT\n",
      "\n",
      "AGGCUUUAAGCAUGAGCCAAUCAAUAAAAUUGCACUCUAUAGA\n",
      "GAAUCCAUCGGUAAACCUUUCUCUGGUUUGAUCGAUAAACACGUUAUUGCUCUGGCAAGUGAUAAGCCAA\n",
      "UAGAGACGACGGUAAAACAAUUGGAUAUUAAUCAGCCCGAACAGAUUACGGAGUUUAUCUGCACCUGGUU\n",
      "AGAAAAUAUUAGUUUUGAAGUAAGGUAAUGCGGGGGUAGUCAUACAAAAUGAGCCUGUCCAUAAUUCUGU\n",
      "GUAACUGCCACCGUAUUAAAGGUGAUCGCUCAGGCGGUCACCGAACUCGAUAAUAAAACGGCUCAUCGCU\n",
      "AACCGCCAGUUCUGGAUCGGCAUACUCCAUUUUUUUUGAUGCAUCCUUGAUCGCCAAAUAAACAACCUUC\n",
      "CGCACUGAGUCGUCUGUCGGGAACACUUUGCGCUUUUUAAUGGCUGCACGGAUCACGCUGUUCACCGAUU\n",
      "CGAUGGCAUUCGUGGUGUAGAUAGCCUUGCGGAUAUCGGGCGGAUAGCCGAAGAAUGUAUU\n"
     ]
    }
   ],
   "source": [
    "def funcao(arquivo,flag):\n",
    "\n",
    "    valor = open(arquivo, 'r')\n",
    "    value_string = str(valor.read())\n",
    "\n",
    "    value_string = value_string[19222:19753]\n",
    "    \n",
    "\n",
    "    if(flag == 1):\n",
    "        value_string = value_string[::-1]\n",
    "        value_string = value_string.replace('A','1')\n",
    "        value_string = value_string.replace('G','2')\n",
    "        value_string = value_string.replace('C','3')\n",
    "        value_string = value_string.replace('T','4')\n",
    "\n",
    "        value_string = value_string.replace('1','U')\n",
    "        value_string = value_string.replace('2','C')\n",
    "        value_string = value_string.replace('3','G')\n",
    "        value_string = value_string.replace('4','A')\n",
    "   \n",
    "\n",
    "   # value_string = value_string[value_string.find(\"AUG\"):len(value_string)]\n",
    "    \n",
    "   # trab_bio(value_string)\n",
    "\n",
    "funcao(\"bio.txt\",1)"
   ]
  },
  {
   "cell_type": "code",
   "execution_count": 20,
   "metadata": {},
   "outputs": [
    {
     "data": {
      "text/plain": [
       "513"
      ]
     },
     "execution_count": 20,
     "metadata": {},
     "output_type": "execute_result"
    }
   ],
   "source": []
  },
  {
   "cell_type": "code",
   "execution_count": null,
   "metadata": {
    "collapsed": true
   },
   "outputs": [],
   "source": []
  }
 ],
 "metadata": {
  "kernelspec": {
   "display_name": "Python 3",
   "language": "python",
   "name": "python3"
  },
  "language_info": {
   "codemirror_mode": {
    "name": "ipython",
    "version": 3
   },
   "file_extension": ".py",
   "mimetype": "text/x-python",
   "name": "python",
   "nbconvert_exporter": "python",
   "pygments_lexer": "ipython3",
   "version": "3.6.3"
  }
 },
 "nbformat": 4,
 "nbformat_minor": 2
}
