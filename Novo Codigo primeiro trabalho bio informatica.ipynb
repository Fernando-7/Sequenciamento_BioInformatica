{
 "cells": [
  {
   "cell_type": "code",
   "execution_count": 36,
   "metadata": {},
   "outputs": [],
   "source": [
    "def trab_bio(sequencia): #Passa a sua string\n",
    "    cont = 3\n",
    "    auxcont = 0\n",
    "    lista = []\n",
    "    dict = {\"TTT\":\"Fenilalanina\",\"TTC\":\"Fenilalanina\",\"TTA\":\"Leucina\",\"TTG\":\"Leucina\",\"CTT\":\"Leucina\",\n",
    "            \"CTC\":\"Leucina\",\"CTA\":\"Leucina\",\"CTG\":\"Leucina\",\"ATT\":\"Isoleucina\",\"ATC\":\"Isoleucina\",\"ATA\":\"Isoleucina\",\n",
    "            \"ATG\":\"Metionina\",\"GTT\":\"Valina\",\"GTC\":\"Valina\",\"GTA\":\"Valina\",\"GTG\":\"Valina\",\"TCT\":\"Serina\",\"TCC\":\"Serina\",\n",
    "            \"TCA\":\"Serina\",\"TCG\":\"Serina\",\"CCT\":\"Prolina\",\"CCC\":\"Prolina\",\"CCA\":\"Prolina\",\"CCG\":\"Prolina\",\"ACT\":\"Treonina\",\n",
    "            \"ACC\":\"Treonina\",\"ACA\":\"Treonina\",\"ACG\":\"Treonina\",\"GCT\":\"Alanina\",\"GCC\":\"Alanina\",\"GCA\":\"Alanina\",\"GCG\":\"Alanina\",\n",
    "            \"TAT\":\"Tirosina\",\"TAC\":\"Tirosina\", \"CAT\":\"BLABLA\", \"CAC\":\"BLABLU\",\"CAG\":\"BLABLE\",\"AAT\":\"BLABLP\",\"ACC\":\"BLABLW\",\"AAA\":\"BLABLQ\", \"AAG\":\"BLABLY\",\"GAT\":\"BLABLJ\",\"GAC\":\"BLABIO\", \"TGT\":\"Cisteina\",\"TGC\":\"Cisteina\",\"TGG\":\"Triptofano\",\"CGT\":\"Arginina\",\n",
    "            \"CGC\":\"Arginina\",\"CGA\":\"Arginina\",\"CGG\":\"Arginina\",\"AGA\":\"Arginina\",\"AGG\":\"Arginina\",\"GGT\":\"Glicina\",\"GGC\":\"Glicina\",\n",
    "            \"GGA\":\"Glicina\", \"GAG\":\"JDKD\",\"GGG\":\"Glicina\",\"AGT\":\"Serina\",\"AGC\":\"Serina\",\"GAA\":\"Acido Glutaminico\",\"TAA\":\"Stop Codon\",\n",
    "            \"TGA\":\"Stop Codon\",\"TAG\":\"Stop Codon\"} # dicionario para saber se\n",
    "   \n",
    "    \n",
    "    while(sequencia[auxcont:cont] != \"TAA\" and sequencia[auxcont:cont] != \"TAG\" and sequencia[auxcont:cont] != \"TGA\"):\n",
    "        lista.append(sequencia[auxcont:cont])\n",
    "        auxcont = cont\n",
    "        cont = cont + 3\n",
    "    lista.append(sequencia[auxcont:cont])\n",
    "    \n",
    "   # print(\"Start Codon comeca em:\",sequencia.find(\"AUG\"),\"\\n\")\n",
    "    for contador in range(len(lista)):\n",
    "        if lista[contador] in dict:\n",
    "            print(lista[contador]+\" = \"+dict[lista[contador]]+\"\\n\")\n",
    "        \n",
    "\n",
    "\n",
    "\n"
   ]
  },
  {
   "cell_type": "code",
   "execution_count": 40,
   "metadata": {},
   "outputs": [],
   "source": [
    "def funcao(arquivo,flag):\n",
    "\n",
    "    valor = open(arquivo, 'r')\n",
    "    value_string = str(valor.read())\n",
    "    value_string = value_string.replace('\\n','')\n",
    "    value_string = value_string[19222:19753]\n",
    "   \n",
    "\n",
    "    if(flag == 1):\n",
    "        value_string = value_string[::-1]\n",
    "        value_string = value_string.replace('A','1')\n",
    "        value_string = value_string.replace('G','2')\n",
    "        value_string = value_string.replace('C','3')\n",
    "        value_string = value_string.replace('T','4')\n",
    "\n",
    "        value_string = value_string.replace('1','T')\n",
    "        value_string = value_string.replace('2','C')\n",
    "        value_string = value_string.replace('3','G')\n",
    "        value_string = value_string.replace('4','A')\n",
    "   \n",
    "\n",
    "    value_string = value_string[value_string.find(\"ATG\"):len(value_string)]\n",
    "    \n",
    "    trab_bio(value_string)\n",
    "\n"
   ]
  },
  {
   "cell_type": "code",
   "execution_count": 20,
   "metadata": {},
   "outputs": [
    {
     "data": {
      "text/plain": [
       "513"
      ]
     },
     "execution_count": 20,
     "metadata": {},
     "output_type": "execute_result"
    }
   ],
   "source": [
    "funcao(\"bio.txt\",1)"
   ]
  },
  {
   "cell_type": "code",
   "execution_count": null,
   "metadata": {
    "collapsed": true
   },
   "outputs": [],
   "source": []
  }
 ],
 "metadata": {
  "kernelspec": {
   "display_name": "Python 3",
   "language": "python",
   "name": "python3"
  },
  "language_info": {
   "codemirror_mode": {
    "name": "ipython",
    "version": 3
   },
   "file_extension": ".py",
   "mimetype": "text/x-python",
   "name": "python",
   "nbconvert_exporter": "python",
   "pygments_lexer": "ipython3",
   "version": "3.6.3"
  }
 },
 "nbformat": 4,
 "nbformat_minor": 2
}
